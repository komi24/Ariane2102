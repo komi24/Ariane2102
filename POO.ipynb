{
 "cells": [
  {
   "cell_type": "code",
   "execution_count": 1,
   "metadata": {},
   "outputs": [],
   "source": [
    "class Personne:\n",
    "    def __init__(self):\n",
    "        self.nom = \"Johnson\"\n",
    "        self.prenom = \"John\"\n",
    "        \n",
    "        \n"
   ]
  },
  {
   "cell_type": "code",
   "execution_count": 4,
   "metadata": {},
   "outputs": [
    {
     "name": "stdout",
     "output_type": "stream",
     "text": [
      "<__main__.Personne object at 0x00000295B1C437C8>\n",
      "Johnson\n"
     ]
    }
   ],
   "source": [
    "une_personne = Personne() # crée une instance de la classe Personne\n",
    "\n",
    "print(une_personne)\n",
    "print(une_personne.nom)"
   ]
  },
  {
   "cell_type": "code",
   "execution_count": 5,
   "metadata": {},
   "outputs": [
    {
     "name": "stdout",
     "output_type": "stream",
     "text": [
      "<__main__.Personne object at 0x00000295B1C0CD08>\n",
      "Johnson\n"
     ]
    }
   ],
   "source": [
    "une_autre_personne = Personne() # crée une instance de la classe Personne\n",
    "\n",
    "print(une_autre_personne)\n",
    "print(une_autre_personne.nom)"
   ]
  },
  {
   "cell_type": "code",
   "execution_count": 7,
   "metadata": {},
   "outputs": [
    {
     "name": "stdout",
     "output_type": "stream",
     "text": [
      "<__main__.Personne object at 0x00000295B1C0CD08>\n",
      "Lincoln\n",
      "Johnson\n"
     ]
    }
   ],
   "source": [
    "une_autre_personne.nom = \"Lincoln\"\n",
    "\n",
    "print(une_autre_personne)\n",
    "print(une_autre_personne.nom)\n",
    "print(une_personne.nom)\n"
   ]
  },
  {
   "cell_type": "code",
   "execution_count": 10,
   "metadata": {},
   "outputs": [
    {
     "name": "stdout",
     "output_type": "stream",
     "text": [
      "Lovelace\n",
      "Londres\n",
      "Turing\n",
      "Paris\n"
     ]
    }
   ],
   "source": [
    "class Personne:\n",
    "    def __init__(self, nom_param, prenom_param, ville=\"Londres\"):\n",
    "        self.nom = nom_param\n",
    "        self.prenom = prenom_param\n",
    "        self.ville = ville\n",
    "        \n",
    "une_personne = Personne(\"Lovelace\", \"Ada\")\n",
    "print(une_personne.nom)\n",
    "print(une_personne.ville)\n",
    "\n",
    "une_autre_personne = Personne(\"Turing\", \"Alan\", \"Paris\")\n",
    "print(une_autre_personne.nom)\n",
    "print(une_autre_personne.ville)\n"
   ]
  },
  {
   "cell_type": "code",
   "execution_count": 11,
   "metadata": {},
   "outputs": [
    {
     "name": "stdout",
     "output_type": "stream",
     "text": [
      "Lovelace\n",
      "Londres\n",
      "Turing\n",
      "Paris\n",
      "Bonjour ! Je m'appelle Alan Turing.\n"
     ]
    }
   ],
   "source": [
    "class Personne:\n",
    "    def __init__(self, nom_param, prenom_param, ville=\"Londres\"):\n",
    "        assert type(nom_param) == str\n",
    "        self.nom = nom_param\n",
    "        self.prenom = prenom_param\n",
    "        self.ville = ville\n",
    "        \n",
    "    def dire_bonjour(self):\n",
    "        print(f\"Bonjour ! Je m'appelle {self.prenom} {self.nom}.\")\n",
    "        \n",
    "une_personne = Personne(\"Lovelace\", \"Ada\")\n",
    "print(une_personne.nom)\n",
    "print(une_personne.ville)\n",
    "\n",
    "une_autre_personne = Personne(\"Turing\", \"Alan\", \"Paris\")\n",
    "print(une_autre_personne.nom)\n",
    "print(une_autre_personne.ville)\n",
    "une_autre_personne.dire_bonjour()"
   ]
  },
  {
   "cell_type": "code",
   "execution_count": 18,
   "metadata": {},
   "outputs": [
    {
     "name": "stdout",
     "output_type": "stream",
     "text": [
      "[[1 4]\n",
      " [2 3]]\n"
     ]
    },
    {
     "data": {
      "text/plain": [
       "4"
      ]
     },
     "execution_count": 18,
     "metadata": {},
     "output_type": "execute_result"
    }
   ],
   "source": [
    "class Voiture:\n",
    "    \"\"\"\n",
    "        attributs:\n",
    "        - marque: str\n",
    "        - position: np.array\n",
    "        - vitesse: np.array = np.array([0,1])\n",
    "        methodes:\n",
    "        - avancer() fait avancer la voiture du vecteur vitesse\n",
    "        - tourner() tourner le vecteur vitesse dans le sens horraire\n",
    "    \"\"\"\n",
    "    \n",
    "\n",
    "# Créer une voiture.\n",
    "# Faites la avancer.\n",
    "# Faites la tourner\n",
    "# Faites la avancer.\n",
    "\n",
    "import numpy as np\n",
    "\n",
    "mat = np.array([[1,4],[2,3]])\n",
    "print(mat)\n",
    "mat[0,1]\n",
    "\n"
   ]
  },
  {
   "cell_type": "code",
   "execution_count": 23,
   "metadata": {},
   "outputs": [
    {
     "data": {
      "text/plain": [
       "{'nom': 'Lovelace', 'prenom': 'Ada', 'ville': 'Londres'}"
      ]
     },
     "execution_count": 23,
     "metadata": {},
     "output_type": "execute_result"
    }
   ],
   "source": [
    "une_personne.__dict__"
   ]
  },
  {
   "cell_type": "code",
   "execution_count": 24,
   "metadata": {},
   "outputs": [
    {
     "data": {
      "text/plain": [
       "array([-1,  0])"
      ]
     },
     "execution_count": 24,
     "metadata": {},
     "output_type": "execute_result"
    }
   ],
   "source": [
    "vitesse = np.array([0,1])\n",
    "\n",
    "rot = np.array([[0, -1], [1, 0]])\n",
    "vitesse = rot.dot(vitesse)\n",
    "vitesse"
   ]
  },
  {
   "cell_type": "code",
   "execution_count": 26,
   "metadata": {},
   "outputs": [
    {
     "data": {
      "text/plain": [
       "True"
      ]
     },
     "execution_count": 26,
     "metadata": {},
     "output_type": "execute_result"
    }
   ],
   "source": [
    "type(np.array([0,1])) == np.ndarray"
   ]
  },
  {
   "cell_type": "code",
   "execution_count": 44,
   "metadata": {},
   "outputs": [
    {
     "name": "stdout",
     "output_type": "stream",
     "text": [
      "Voiture : Maybach. Position : [0 1]\n",
      "Voiture : Maybach. Position : [0 2]\n",
      "Voiture : Maybach. Position : [0 2]\n",
      "Voiture : Maybach. Position : [-1  2]\n"
     ]
    }
   ],
   "source": [
    "import numpy as np\n",
    "\n",
    "class Voiture:\n",
    "    \"\"\"\n",
    "        attributs:\n",
    "        - marque: str\n",
    "        - position: np.array\n",
    "        - vitesse: np.array = np.array([0,1])\n",
    "        methodes:\n",
    "        - avancer() fait avancer la voiture du vecteur vitesse\n",
    "        - tourner() tourner le vecteur vitesse dans le sens horraire\n",
    "    \"\"\"\n",
    "    def __init__(self, marque, position, vitesse_param=np.array([0,1])):\n",
    "        assert type(position) == np.ndarray and position.shape == (2,), \\\n",
    "            \"position doit être un np.array de taille (2,)\"\n",
    "        assert type(vitesse_param) == np.ndarray and vitesse_param.shape == (2,), \\\n",
    "            \"vitesse doit être un np.array de taille (2,)\"\n",
    "        self.marque = marque\n",
    "        self.position = position\n",
    "        self.vitesse = np.array(vitesse_param)\n",
    "    \n",
    "    def avancer(self):\n",
    "        self.position += self.vitesse\n",
    "        \n",
    "    def tourner(self):\n",
    "        self.vitesse = np.array([[0,-1],[1, 0]]).dot(self.vitesse)\n",
    "    \n",
    "    def __repr__(self):\n",
    "        return f\"Voiture : {self.marque}. Position : {self.position}\"\n",
    "    \n",
    "    def __del__(self):\n",
    "        print(\"bonjour\")\n",
    "        \n",
    "    def __lt__(self, other):\n",
    "        return self.position[0] < other.position[0]\n",
    "\n",
    "    def __eq__(self, other):\n",
    "        return self.position[0] == other.position[0]\n",
    "\n",
    "\n",
    "# Créer une voiture.\n",
    "une_voit = Voiture(\"Maybach\", np.array([0,1]))\n",
    "print(une_voit)\n",
    "# Faites la avancer.\n",
    "une_voit.avancer()\n",
    "print(une_voit)\n",
    "# Faites la tourner\n",
    "une_voit.tourner()\n",
    "print(une_voit)\n",
    "# Faites la avancer.\n",
    "une_voit.avancer()\n",
    "# Voiture.avancer(une_voit)\n",
    "print(une_voit)\n"
   ]
  },
  {
   "cell_type": "code",
   "execution_count": 45,
   "metadata": {},
   "outputs": [
    {
     "data": {
      "text/plain": [
       "True"
      ]
     },
     "execution_count": 45,
     "metadata": {},
     "output_type": "execute_result"
    }
   ],
   "source": [
    "une_voit2 = Voiture(\"Kangoo\", np.array([1,0]))\n",
    "\n",
    "une_voit < une_voit2"
   ]
  },
  {
   "cell_type": "code",
   "execution_count": 28,
   "metadata": {},
   "outputs": [
    {
     "data": {
      "text/plain": [
       "array([1, 0])"
      ]
     },
     "execution_count": 28,
     "metadata": {},
     "output_type": "execute_result"
    }
   ],
   "source": [
    "# np.array([0,1]).dot(np.array([[0,-1],[1, 0]]))"
   ]
  },
  {
   "cell_type": "code",
   "execution_count": 43,
   "metadata": {},
   "outputs": [
    {
     "name": "stdout",
     "output_type": "stream",
     "text": [
      "bonjour\n"
     ]
    }
   ],
   "source": [
    "# del une_voit\n",
    "une_voit = Voiture(\"Kangoo\", np.array([1,0]))\n"
   ]
  },
  {
   "cell_type": "code",
   "execution_count": 40,
   "metadata": {},
   "outputs": [
    {
     "ename": "NameError",
     "evalue": "name 'une_voit' is not defined",
     "output_type": "error",
     "traceback": [
      "\u001b[1;31m---------------------------------------------------------------------------\u001b[0m",
      "\u001b[1;31mNameError\u001b[0m                                 Traceback (most recent call last)",
      "\u001b[1;32m<ipython-input-40-ac93ee27d4ff>\u001b[0m in \u001b[0;36m<module>\u001b[1;34m\u001b[0m\n\u001b[1;32m----> 1\u001b[1;33m \u001b[0mprint\u001b[0m\u001b[1;33m(\u001b[0m\u001b[0mune_voit\u001b[0m\u001b[1;33m)\u001b[0m\u001b[1;33m\u001b[0m\u001b[1;33m\u001b[0m\u001b[0m\n\u001b[0m",
      "\u001b[1;31mNameError\u001b[0m: name 'une_voit' is not defined"
     ]
    }
   ],
   "source": [
    "print(une_voit)"
   ]
  },
  {
   "cell_type": "code",
   "execution_count": 67,
   "metadata": {},
   "outputs": [],
   "source": [
    "# Créer une classe Personne avec nom, prenom age\n",
    "# Le print doit afficher le prenom\n",
    "# il doit y avoir une relation d'ordre sur les ages\n",
    "# faite une liste de personnes\n",
    "# trier cette liste avec ma_iste.sort() et afficher le résultat\n",
    "from random import randint\n",
    "\n",
    "\n",
    "class Personne:\n",
    "    def __init__(self, prenom, nom, age):\n",
    "        self.prenom = prenom\n",
    "        self.nom = nom\n",
    "        self.age = age\n",
    "        \n",
    "    def __repr__(self):\n",
    "        return f\"{self.prenom} - {self.age} ans\"\n",
    "    \n",
    "    def __lt__(self, other):\n",
    "        return self.age < other.age\n",
    "    \n",
    "    def __eq__(self, other):\n",
    "        return self.age == other.age\n",
    "    \n",
    "\n",
    "liste_personnes = [\n",
    "    Personne(f\"Martin{i}\", f\"Terrier{i}\", randint(20, 50)) \n",
    "    for i in range(10)\n",
    "]\n"
   ]
  },
  {
   "cell_type": "code",
   "execution_count": 68,
   "metadata": {},
   "outputs": [
    {
     "data": {
      "text/plain": [
       "[Martin0 - 32 ans,\n",
       " Martin1 - 27 ans,\n",
       " Martin2 - 28 ans,\n",
       " Martin3 - 38 ans,\n",
       " Martin4 - 42 ans,\n",
       " Martin5 - 31 ans,\n",
       " Martin6 - 23 ans,\n",
       " Martin7 - 30 ans,\n",
       " Martin8 - 25 ans,\n",
       " Martin9 - 36 ans]"
      ]
     },
     "execution_count": 68,
     "metadata": {},
     "output_type": "execute_result"
    }
   ],
   "source": [
    "liste_personnes"
   ]
  },
  {
   "cell_type": "code",
   "execution_count": 69,
   "metadata": {},
   "outputs": [
    {
     "data": {
      "text/plain": [
       "[32, 27, 28, 38, 42, 31, 23, 30, 25, 36]"
      ]
     },
     "execution_count": 69,
     "metadata": {},
     "output_type": "execute_result"
    }
   ],
   "source": [
    "[p.age for p in liste_personnes]"
   ]
  },
  {
   "cell_type": "code",
   "execution_count": 70,
   "metadata": {},
   "outputs": [
    {
     "data": {
      "text/plain": [
       "[Martin6 - 23 ans,\n",
       " Martin8 - 25 ans,\n",
       " Martin1 - 27 ans,\n",
       " Martin2 - 28 ans,\n",
       " Martin7 - 30 ans,\n",
       " Martin5 - 31 ans,\n",
       " Martin0 - 32 ans,\n",
       " Martin9 - 36 ans,\n",
       " Martin3 - 38 ans,\n",
       " Martin4 - 42 ans]"
      ]
     },
     "execution_count": 70,
     "metadata": {},
     "output_type": "execute_result"
    }
   ],
   "source": [
    "# liste_personnes.sort()\n",
    "liste_personnes = sorted(liste_personnes)\n",
    "liste_personnes"
   ]
  },
  {
   "cell_type": "code",
   "execution_count": 71,
   "metadata": {},
   "outputs": [
    {
     "data": {
      "text/plain": [
       "[23, 25, 27, 28, 30, 31, 32, 36, 38, 42]"
      ]
     },
     "execution_count": 71,
     "metadata": {},
     "output_type": "execute_result"
    }
   ],
   "source": [
    "[p.age for p in liste_personnes]"
   ]
  },
  {
   "cell_type": "code",
   "execution_count": 80,
   "metadata": {},
   "outputs": [
    {
     "name": "stdout",
     "output_type": "stream",
     "text": [
      "Bonjour\n"
     ]
    },
    {
     "data": {
      "text/plain": [
       "15000"
      ]
     },
     "execution_count": 80,
     "metadata": {},
     "output_type": "execute_result"
    }
   ],
   "source": [
    "class Client(Personne):\n",
    "    def __init__(self, nom, prenom, age, solde):\n",
    "        Personne.__init__(self, nom, prenom, age)\n",
    "        self.__solde = solde\n",
    "        \n",
    "    def __saluer(self):\n",
    "        print(\"Bonjour\")\n",
    "        \n",
    "    def solde(self):\n",
    "        self.__saluer()\n",
    "        return self.__solde\n",
    "        \n",
    "client1 = Client(\"Lecleach\", \"Arnaud\", 42, 15000)\n",
    "client2 = Client(\"Martin\", \"Gaultier\", 38, 200000)\n",
    "\n",
    "# client1.__solde\n",
    "client1.solde()\n",
    "# client1.__saluer()"
   ]
  },
  {
   "cell_type": "code",
   "execution_count": 74,
   "metadata": {},
   "outputs": [
    {
     "name": "stdout",
     "output_type": "stream",
     "text": [
      "Lecleach - 42 ans\n"
     ]
    },
    {
     "data": {
      "text/plain": [
       "True"
      ]
     },
     "execution_count": 74,
     "metadata": {},
     "output_type": "execute_result"
    }
   ],
   "source": [
    "print(client1)\n",
    "client1 > client2"
   ]
  },
  {
   "cell_type": "code",
   "execution_count": null,
   "metadata": {},
   "outputs": [],
   "source": []
  }
 ],
 "metadata": {
  "kernelspec": {
   "display_name": "Python 3",
   "language": "python",
   "name": "python3"
  },
  "language_info": {
   "codemirror_mode": {
    "name": "ipython",
    "version": 3
   },
   "file_extension": ".py",
   "mimetype": "text/x-python",
   "name": "python",
   "nbconvert_exporter": "python",
   "pygments_lexer": "ipython3",
   "version": "3.7.6"
  }
 },
 "nbformat": 4,
 "nbformat_minor": 4
}
