{
 "cells": [
  {
   "cell_type": "code",
   "execution_count": 3,
   "metadata": {},
   "outputs": [
    {
     "name": "stdout",
     "output_type": "stream",
     "text": [
      "Hello world !\n"
     ]
    }
   ],
   "source": [
    "print(\"Hello world !\")"
   ]
  },
  {
   "cell_type": "markdown",
   "metadata": {},
   "source": [
    "# Titre : Introduction au python\n",
    "\n",
    "## Sous-titre : Jour 1\n",
    "\n",
    "paragraphe blabla\n",
    "\n",
    "* item 1\n",
    "* item 2"
   ]
  },
  {
   "cell_type": "code",
   "execution_count": 6,
   "metadata": {},
   "outputs": [
    {
     "name": "stdout",
     "output_type": "stream",
     "text": [
      "Bonjour\n"
     ]
    },
    {
     "data": {
      "text/plain": [
       "'\\n    Ceci est un docstring\\n    sur plusieurs ligne\\n'"
      ]
     },
     "execution_count": 6,
     "metadata": {},
     "output_type": "execute_result"
    }
   ],
   "source": [
    "print(\"Bonjour\") # affiche bonjour\n",
    "# ceci est un commentaire sur une ligne\n",
    "\n",
    "\"\"\"\n",
    "    Ceci est un docstring\n",
    "    sur plusieurs ligne\n",
    "\"\"\""
   ]
  },
  {
   "cell_type": "code",
   "execution_count": 11,
   "metadata": {},
   "outputs": [
    {
     "name": "stdout",
     "output_type": "stream",
     "text": [
      "Hello\n",
      "bonjour\n"
     ]
    },
    {
     "data": {
      "text/plain": [
       "13"
      ]
     },
     "execution_count": 11,
     "metadata": {},
     "output_type": "execute_result"
    }
   ],
   "source": [
    "2 + 2\n",
    "\n",
    "print(\"Hello\")\n",
    "\n",
    "4 + 3\n",
    "\n",
    "print(\"bonjour\")\n",
    "\n",
    "6 + 7\n",
    "\n",
    "# print(\"Salut\")"
   ]
  },
  {
   "cell_type": "code",
   "execution_count": 13,
   "metadata": {},
   "outputs": [
    {
     "name": "stdout",
     "output_type": "stream",
     "text": [
      "Hello\n",
      "bonjour\n"
     ]
    },
    {
     "data": {
      "text/plain": [
       "13"
      ]
     },
     "execution_count": 13,
     "metadata": {},
     "output_type": "execute_result"
    }
   ],
   "source": [
    "2 + 2\n",
    "\n",
    "print(\"Hello\")\n",
    "\n",
    "4 + 3\n",
    "\n",
    "print(\"bonjour\")\n",
    "\n",
    "6 + 7\n",
    "\n",
    "# \"\"\"\n",
    "#     print(\"Salut\")\n",
    "# \"\"\""
   ]
  },
  {
   "cell_type": "code",
   "execution_count": 14,
   "metadata": {},
   "outputs": [
    {
     "name": "stdout",
     "output_type": "stream",
     "text": [
      "2\n"
     ]
    }
   ],
   "source": [
    "ma_variable = 2\n",
    "\n",
    "print(ma_variable)"
   ]
  },
  {
   "cell_type": "code",
   "execution_count": 18,
   "metadata": {},
   "outputs": [
    {
     "name": "stdout",
     "output_type": "stream",
     "text": [
      "<class 'float'>\n"
     ]
    },
    {
     "ename": "AssertionError",
     "evalue": "Ma variable doit être un entier",
     "output_type": "error",
     "traceback": [
      "\u001b[1;31m---------------------------------------------------------------------------\u001b[0m",
      "\u001b[1;31mAssertionError\u001b[0m                            Traceback (most recent call last)",
      "\u001b[1;32m<ipython-input-18-354f9b2e2088>\u001b[0m in \u001b[0;36m<module>\u001b[1;34m\u001b[0m\n\u001b[0;32m      3\u001b[0m \u001b[0mprint\u001b[0m\u001b[1;33m(\u001b[0m\u001b[0mtype\u001b[0m\u001b[1;33m(\u001b[0m\u001b[0mma_variable\u001b[0m\u001b[1;33m)\u001b[0m\u001b[1;33m)\u001b[0m\u001b[1;33m\u001b[0m\u001b[1;33m\u001b[0m\u001b[0m\n\u001b[0;32m      4\u001b[0m \u001b[1;33m\u001b[0m\u001b[0m\n\u001b[1;32m----> 5\u001b[1;33m \u001b[1;32massert\u001b[0m \u001b[0mtype\u001b[0m\u001b[1;33m(\u001b[0m\u001b[0mma_variable\u001b[0m\u001b[1;33m)\u001b[0m \u001b[1;33m==\u001b[0m \u001b[0mint\u001b[0m\u001b[1;33m,\u001b[0m \u001b[1;34m\"Ma variable doit être un entier\"\u001b[0m\u001b[1;33m\u001b[0m\u001b[1;33m\u001b[0m\u001b[0m\n\u001b[0m\u001b[0;32m      6\u001b[0m \u001b[1;33m\u001b[0m\u001b[0m\n\u001b[0;32m      7\u001b[0m \u001b[0mprint\u001b[0m\u001b[1;33m(\u001b[0m\u001b[1;34m\"ok\"\u001b[0m\u001b[1;33m)\u001b[0m\u001b[1;33m\u001b[0m\u001b[1;33m\u001b[0m\u001b[0m\n",
      "\u001b[1;31mAssertionError\u001b[0m: Ma variable doit être un entier"
     ]
    }
   ],
   "source": [
    "ma_variable = 4.\n",
    "\n",
    "print(type(ma_variable))\n",
    "\n",
    "assert type(ma_variable) == int, \"Ma variable doit être un entier\"\n",
    "\n",
    "print(\"ok\")"
   ]
  },
  {
   "cell_type": "code",
   "execution_count": 24,
   "metadata": {},
   "outputs": [
    {
     "name": "stdout",
     "output_type": "stream",
     "text": [
      "<class 'int'>\n",
      "<class 'float'>\n",
      "<class 'bool'>\n",
      "False\n",
      "<class 'bool'>\n",
      "False\n",
      "<class 'bool'>\n"
     ]
    }
   ],
   "source": [
    "ma_variable = 4 # ma variable est l'entier\n",
    "\n",
    "print(type(ma_variable))\n",
    "\n",
    "ma_variable = 4.2 # ma variable est le float 4.2\n",
    "\n",
    "print(type(ma_variable))\n",
    "\n",
    "ma_variable = True # ma variable est le boolean True\n",
    "\n",
    "print(type(ma_variable))\n",
    "\n",
    "ma_variable = (2 == 5) # ma variable est le boolean False\n",
    "\n",
    "print(ma_variable)\n",
    "print(type(ma_variable))\n",
    "\n",
    "ma_variable = (2 > 5) # ma variable est le boolean False\n",
    "\n",
    "print(ma_variable)\n",
    "print(type(ma_variable))\n"
   ]
  },
  {
   "cell_type": "code",
   "execution_count": 27,
   "metadata": {},
   "outputs": [
    {
     "name": "stdout",
     "output_type": "stream",
     "text": [
      "<class 'int'>\n",
      "<class 'float'>\n",
      "<class 'bool'>\n",
      "ma_variable = False. Son type est <class 'bool'>\n",
      "ma_variable = False. Son type est <class 'bool'>\n",
      "ma_variable = False. Son type est <class 'bool'>\n"
     ]
    }
   ],
   "source": [
    "ma_variable = 4 # ma variable est l'entier\n",
    "\n",
    "print(type(ma_variable))\n",
    "\n",
    "ma_variable = 4.2 # ma variable est le float 4.2\n",
    "\n",
    "print(type(ma_variable))\n",
    "\n",
    "ma_variable = True # ma variable est le boolean True\n",
    "\n",
    "print(type(ma_variable))\n",
    "\n",
    "ma_variable = (2 == 5) # ma variable est le boolean False\n",
    "\n",
    "print(f\"ma_variable = {ma_variable}. Son type est {type(ma_variable)}\")\n",
    "\n",
    "ma_variable = (2 > 5) # ma variable est le boolean False\n",
    "\n",
    "print(f\"ma_variable = {ma_variable}. Son type est {type(ma_variable)}\")\n",
    "\n",
    "# ancienne manière\n",
    "print(f\"ma_variable = %s. Son type est %s\"%(ma_variable, type(ma_variable)))\n"
   ]
  },
  {
   "cell_type": "code",
   "execution_count": 33,
   "metadata": {},
   "outputs": [
    {
     "name": "stdout",
     "output_type": "stream",
     "text": [
      "(-3+4j)\n"
     ]
    }
   ],
   "source": [
    "a = 2j + 1\n",
    "\n",
    "print(a ** 2)"
   ]
  },
  {
   "cell_type": "code",
   "execution_count": 34,
   "metadata": {},
   "outputs": [
    {
     "data": {
      "text/plain": [
       "2.0"
      ]
     },
     "execution_count": 34,
     "metadata": {},
     "output_type": "execute_result"
    }
   ],
   "source": [
    "import numpy as np\n",
    "\n",
    "np.sqrt(4)"
   ]
  },
  {
   "cell_type": "code",
   "execution_count": 35,
   "metadata": {},
   "outputs": [
    {
     "data": {
      "text/plain": [
       "True"
      ]
     },
     "execution_count": 35,
     "metadata": {},
     "output_type": "execute_result"
    }
   ],
   "source": [
    "True or False"
   ]
  },
  {
   "cell_type": "code",
   "execution_count": 37,
   "metadata": {},
   "outputs": [
    {
     "data": {
      "text/plain": [
       "False"
      ]
     },
     "execution_count": 37,
     "metadata": {},
     "output_type": "execute_result"
    }
   ],
   "source": [
    "True and False"
   ]
  },
  {
   "cell_type": "code",
   "execution_count": 40,
   "metadata": {},
   "outputs": [
    {
     "data": {
      "text/plain": [
       "False"
      ]
     },
     "execution_count": 40,
     "metadata": {},
     "output_type": "execute_result"
    }
   ],
   "source": [
    "majeur = True\n",
    "a_des_yeux = False\n",
    "\n",
    "peut_passer_le_permis = majeur and a_des_yeux\n",
    "\n",
    "peut_passer_le_permis"
   ]
  },
  {
   "cell_type": "code",
   "execution_count": 42,
   "metadata": {},
   "outputs": [
    {
     "data": {
      "text/plain": [
       "0"
      ]
     },
     "execution_count": 42,
     "metadata": {},
     "output_type": "execute_result"
    }
   ],
   "source": [
    "2 | 1 # 10 | 01 = 11 = 3\n",
    "\n",
    "2 & 1 # 10 | 01 = 0 = 0"
   ]
  },
  {
   "cell_type": "code",
   "execution_count": 74,
   "metadata": {},
   "outputs": [],
   "source": [
    "res = None"
   ]
  },
  {
   "cell_type": "markdown",
   "metadata": {},
   "source": [
    "## Types composés : Sequences"
   ]
  },
  {
   "cell_type": "code",
   "execution_count": 43,
   "metadata": {},
   "outputs": [
    {
     "data": {
      "text/plain": [
       "'B'"
      ]
     },
     "execution_count": 43,
     "metadata": {},
     "output_type": "execute_result"
    }
   ],
   "source": [
    "ma_chaine = \"Bonjour\"\n",
    "\n",
    "ma_chaine[0]"
   ]
  },
  {
   "cell_type": "code",
   "execution_count": 46,
   "metadata": {},
   "outputs": [
    {
     "ename": "TypeError",
     "evalue": "'str' object does not support item assignment",
     "output_type": "error",
     "traceback": [
      "\u001b[1;31m---------------------------------------------------------------------------\u001b[0m",
      "\u001b[1;31mTypeError\u001b[0m                                 Traceback (most recent call last)",
      "\u001b[1;32m<ipython-input-46-be067411f36e>\u001b[0m in \u001b[0;36m<module>\u001b[1;34m\u001b[0m\n\u001b[0;32m      3\u001b[0m \u001b[0mma_chaine\u001b[0m\u001b[1;33m[\u001b[0m\u001b[1;36m1\u001b[0m\u001b[1;33m:\u001b[0m\u001b[1;36m4\u001b[0m\u001b[1;33m]\u001b[0m \u001b[1;31m# On récupère de 1 à 4 exclus\u001b[0m\u001b[1;33m\u001b[0m\u001b[1;33m\u001b[0m\u001b[0m\n\u001b[0;32m      4\u001b[0m \u001b[1;33m\u001b[0m\u001b[0m\n\u001b[1;32m----> 5\u001b[1;33m \u001b[0mma_chaine\u001b[0m\u001b[1;33m[\u001b[0m\u001b[1;36m0\u001b[0m\u001b[1;33m]\u001b[0m \u001b[1;33m=\u001b[0m \u001b[1;34m\"C\"\u001b[0m \u001b[1;31m# On ne peut pas changer un caractère dans une chaine\u001b[0m\u001b[1;33m\u001b[0m\u001b[1;33m\u001b[0m\u001b[0m\n\u001b[0m",
      "\u001b[1;31mTypeError\u001b[0m: 'str' object does not support item assignment"
     ]
    }
   ],
   "source": [
    "ma_chaine = \"Bonjour\"\n",
    "\n",
    "ma_chaine[1:4] # On récupère de 1 à 4 exclus\n",
    "\n",
    "ma_chaine[0] = \"C\" # On ne peut pas changer un caractère dans une chaine"
   ]
  },
  {
   "cell_type": "code",
   "execution_count": 58,
   "metadata": {},
   "outputs": [
    {
     "data": {
      "text/plain": [
       "'Conjour'"
      ]
     },
     "execution_count": 58,
     "metadata": {},
     "output_type": "execute_result"
    }
   ],
   "source": [
    "ma_chaine = \"Bonjour\"\n",
    "\n",
    "ma_chaine[1:4] # On récupère de 1 à 4 exclus\n",
    "\n",
    "ma_chaine = \"C\" + ma_chaine[1:]\n",
    "\n",
    "ma_chaine"
   ]
  },
  {
   "cell_type": "code",
   "execution_count": 47,
   "metadata": {},
   "outputs": [],
   "source": [
    "ma_liste = [\"Benoit\", \"Marine\", \"Elise\"]\n",
    "\n",
    "ma_liste_notes = [12, 17, 18]\n",
    "\n",
    "ma_liste_quelconque = [\"Benoit\", 12, True, [52, 8]]"
   ]
  },
  {
   "cell_type": "code",
   "execution_count": 49,
   "metadata": {},
   "outputs": [
    {
     "data": {
      "text/plain": [
       "'Benoit'"
      ]
     },
     "execution_count": 49,
     "metadata": {},
     "output_type": "execute_result"
    }
   ],
   "source": [
    "ma_liste[0]"
   ]
  },
  {
   "cell_type": "code",
   "execution_count": 59,
   "metadata": {},
   "outputs": [
    {
     "data": {
      "text/plain": [
       "[20, 17, 18]"
      ]
     },
     "execution_count": 59,
     "metadata": {},
     "output_type": "execute_result"
    }
   ],
   "source": [
    "ma_liste_notes[0] = 20 # On peut modifier un élément dans une liste\n",
    "\n",
    "ma_liste_notes"
   ]
  },
  {
   "cell_type": "code",
   "execution_count": 50,
   "metadata": {},
   "outputs": [
    {
     "data": {
      "text/plain": [
       "'Elise'"
      ]
     },
     "execution_count": 50,
     "metadata": {},
     "output_type": "execute_result"
    }
   ],
   "source": [
    "ma_liste[-1]"
   ]
  },
  {
   "cell_type": "code",
   "execution_count": 51,
   "metadata": {},
   "outputs": [
    {
     "data": {
      "text/plain": [
       "[52, 8]"
      ]
     },
     "execution_count": 51,
     "metadata": {},
     "output_type": "execute_result"
    }
   ],
   "source": [
    "ma_liste_quelconque[-1]"
   ]
  },
  {
   "cell_type": "code",
   "execution_count": 52,
   "metadata": {},
   "outputs": [
    {
     "data": {
      "text/plain": [
       "52"
      ]
     },
     "execution_count": 52,
     "metadata": {},
     "output_type": "execute_result"
    }
   ],
   "source": [
    "ma_liste_quelconque[-1][0]"
   ]
  },
  {
   "cell_type": "code",
   "execution_count": 61,
   "metadata": {},
   "outputs": [
    {
     "data": {
      "text/plain": [
       "[1, 2, 7, 8, 3, 5]"
      ]
     },
     "execution_count": 61,
     "metadata": {},
     "output_type": "execute_result"
    }
   ],
   "source": [
    "ma_liste = [1,2,7] + [8,3,5]\n",
    "ma_liste"
   ]
  },
  {
   "cell_type": "code",
   "execution_count": 62,
   "metadata": {},
   "outputs": [
    {
     "name": "stdout",
     "output_type": "stream",
     "text": [
      "5\n",
      "[1, 2, 7, 8, 3]\n"
     ]
    }
   ],
   "source": [
    "prem = ma_liste.pop()\n",
    "print(prem)\n",
    "print(ma_liste)"
   ]
  },
  {
   "cell_type": "code",
   "execution_count": 63,
   "metadata": {},
   "outputs": [
    {
     "name": "stdout",
     "output_type": "stream",
     "text": [
      "1\n",
      "[2, 7, 8, 3]\n"
     ]
    }
   ],
   "source": [
    "prem = ma_liste.pop(0)\n",
    "print(prem)\n",
    "print(ma_liste)"
   ]
  },
  {
   "cell_type": "code",
   "execution_count": 65,
   "metadata": {},
   "outputs": [
    {
     "name": "stdout",
     "output_type": "stream",
     "text": [
      "[2, 8, 3]\n"
     ]
    }
   ],
   "source": [
    "ma_liste.remove(7)\n",
    "print(ma_liste)"
   ]
  },
  {
   "cell_type": "code",
   "execution_count": 66,
   "metadata": {},
   "outputs": [
    {
     "data": {
      "text/plain": [
       "[2, 8, 3, 13, [14, 15]]"
      ]
     },
     "execution_count": 66,
     "metadata": {},
     "output_type": "execute_result"
    }
   ],
   "source": [
    "ma_liste.append(13)\n",
    "ma_liste.append([14,15])\n",
    "ma_liste"
   ]
  },
  {
   "cell_type": "code",
   "execution_count": 67,
   "metadata": {},
   "outputs": [
    {
     "data": {
      "text/plain": [
       "[1, 2, 7, 8, 3, 5, 14, 15]"
      ]
     },
     "execution_count": 67,
     "metadata": {},
     "output_type": "execute_result"
    }
   ],
   "source": [
    "ma_liste = [1,2,7] + [8,3,5]\n",
    "ma_liste.extend([14,15])\n",
    "ma_liste"
   ]
  },
  {
   "cell_type": "code",
   "execution_count": 68,
   "metadata": {},
   "outputs": [
    {
     "data": {
      "text/plain": [
       "8"
      ]
     },
     "execution_count": 68,
     "metadata": {},
     "output_type": "execute_result"
    }
   ],
   "source": [
    "len(ma_liste)"
   ]
  },
  {
   "cell_type": "code",
   "execution_count": 69,
   "metadata": {},
   "outputs": [
    {
     "data": {
      "text/plain": [
       "55"
      ]
     },
     "execution_count": 69,
     "metadata": {},
     "output_type": "execute_result"
    }
   ],
   "source": [
    "sum(ma_liste)"
   ]
  },
  {
   "cell_type": "code",
   "execution_count": 76,
   "metadata": {},
   "outputs": [
    {
     "name": "stdout",
     "output_type": "stream",
     "text": [
      "[1, 2, 7, 8, 3, 5, 14, 15]\n",
      "[2, 4, 14, 16, 6, 10, 28, 30]\n"
     ]
    }
   ],
   "source": [
    "ma_liste2 = [i*2 for i in ma_liste]\n",
    "print(ma_liste)\n",
    "print(ma_liste2)\n"
   ]
  },
  {
   "cell_type": "code",
   "execution_count": 73,
   "metadata": {},
   "outputs": [
    {
     "data": {
      "text/plain": [
       "[2, 8, 14]"
      ]
     },
     "execution_count": 73,
     "metadata": {},
     "output_type": "execute_result"
    }
   ],
   "source": [
    "nouvelle_liste = [i for i in ma_liste if i % 2 == 0]"
   ]
  },
  {
   "cell_type": "markdown",
   "metadata": {},
   "source": [
    "## Parenthèse sur les vecteurs"
   ]
  },
  {
   "cell_type": "code",
   "execution_count": 53,
   "metadata": {},
   "outputs": [
    {
     "data": {
      "text/plain": [
       "[1, 2, 3, 2, 8, 7]"
      ]
     },
     "execution_count": 53,
     "metadata": {},
     "output_type": "execute_result"
    }
   ],
   "source": [
    "vec1 = [1, 2, 3]\n",
    "vec2 = [2, 8, 7]\n",
    "\n",
    "vec1 + vec2"
   ]
  },
  {
   "cell_type": "code",
   "execution_count": 54,
   "metadata": {},
   "outputs": [
    {
     "data": {
      "text/plain": [
       "[3, 10, 10]"
      ]
     },
     "execution_count": 54,
     "metadata": {},
     "output_type": "execute_result"
    }
   ],
   "source": [
    "res = []\n",
    "\n",
    "for i in range(len(vec1)):\n",
    "    res.append(vec1[i] + vec2[i])\n",
    "    \n",
    "res"
   ]
  },
  {
   "cell_type": "code",
   "execution_count": 55,
   "metadata": {},
   "outputs": [
    {
     "data": {
      "text/plain": [
       "[3, 10, 10]"
      ]
     },
     "execution_count": 55,
     "metadata": {},
     "output_type": "execute_result"
    }
   ],
   "source": [
    "res = [0] * len(vec1)\n",
    "\n",
    "for i in range(len(vec1)):\n",
    "    res[i] = vec1[i] + vec2[i]\n",
    "    \n",
    "res"
   ]
  },
  {
   "cell_type": "code",
   "execution_count": 56,
   "metadata": {},
   "outputs": [
    {
     "data": {
      "text/plain": [
       "[0, 0, 0, 0, 0]"
      ]
     },
     "execution_count": 56,
     "metadata": {},
     "output_type": "execute_result"
    }
   ],
   "source": [
    "[0] * 5"
   ]
  },
  {
   "cell_type": "code",
   "execution_count": 57,
   "metadata": {},
   "outputs": [
    {
     "data": {
      "text/plain": [
       "array([ 3, 10, 10])"
      ]
     },
     "execution_count": 57,
     "metadata": {},
     "output_type": "execute_result"
    }
   ],
   "source": [
    "import numpy as np\n",
    "\n",
    "vec1 = np.array([1, 2, 3])\n",
    "vec2 = np.array([2, 8, 7])\n",
    "\n",
    "vec1 + vec2"
   ]
  },
  {
   "cell_type": "markdown",
   "metadata": {},
   "source": [
    "## Tuples"
   ]
  },
  {
   "cell_type": "code",
   "execution_count": 79,
   "metadata": {},
   "outputs": [
    {
     "data": {
      "text/plain": [
       "(2, 8, 9)"
      ]
     },
     "execution_count": 79,
     "metadata": {},
     "output_type": "execute_result"
    }
   ],
   "source": [
    "mon_tuple = (2, 8, 9)\n",
    "mon_tuple"
   ]
  },
  {
   "cell_type": "code",
   "execution_count": 80,
   "metadata": {},
   "outputs": [
    {
     "data": {
      "text/plain": [
       "2"
      ]
     },
     "execution_count": 80,
     "metadata": {},
     "output_type": "execute_result"
    }
   ],
   "source": [
    "mon_tuple[0]"
   ]
  },
  {
   "cell_type": "code",
   "execution_count": 81,
   "metadata": {},
   "outputs": [
    {
     "ename": "TypeError",
     "evalue": "'tuple' object does not support item assignment",
     "output_type": "error",
     "traceback": [
      "\u001b[1;31m---------------------------------------------------------------------------\u001b[0m",
      "\u001b[1;31mTypeError\u001b[0m                                 Traceback (most recent call last)",
      "\u001b[1;32m<ipython-input-81-e5201ecdef02>\u001b[0m in \u001b[0;36m<module>\u001b[1;34m\u001b[0m\n\u001b[1;32m----> 1\u001b[1;33m \u001b[0mmon_tuple\u001b[0m\u001b[1;33m[\u001b[0m\u001b[1;36m0\u001b[0m\u001b[1;33m]\u001b[0m \u001b[1;33m=\u001b[0m \u001b[1;36m15\u001b[0m\u001b[1;33m\u001b[0m\u001b[1;33m\u001b[0m\u001b[0m\n\u001b[0m",
      "\u001b[1;31mTypeError\u001b[0m: 'tuple' object does not support item assignment"
     ]
    }
   ],
   "source": [
    "mon_tuple[0] = 15 # Un tuple est immutable"
   ]
  },
  {
   "cell_type": "code",
   "execution_count": 90,
   "metadata": {},
   "outputs": [],
   "source": [
    "mon_tuple = ([4,2],)\n",
    "un_entier = (1)"
   ]
  },
  {
   "cell_type": "code",
   "execution_count": 91,
   "metadata": {},
   "outputs": [
    {
     "data": {
      "text/plain": [
       "([4, 10],)"
      ]
     },
     "execution_count": 91,
     "metadata": {},
     "output_type": "execute_result"
    }
   ],
   "source": [
    "mon_tuple[0][1] = 10\n",
    "mon_tuple"
   ]
  },
  {
   "cell_type": "markdown",
   "metadata": {},
   "source": [
    "## Les dictionnaires"
   ]
  },
  {
   "cell_type": "code",
   "execution_count": 92,
   "metadata": {},
   "outputs": [
    {
     "name": "stdout",
     "output_type": "stream",
     "text": [
      "Gaultier\n"
     ]
    }
   ],
   "source": [
    "personne = {\"nom\": \"Gaultier\", \"prenom\": \"Charlene\"}\n",
    "\n",
    "print(personne[\"nom\"])"
   ]
  },
  {
   "cell_type": "code",
   "execution_count": 94,
   "metadata": {},
   "outputs": [
    {
     "name": "stdout",
     "output_type": "stream",
     "text": [
      "{'nom': 'Gaultier', 'prenom': 'Charlene', 'age': 36, 'notes': [18, 16, 19], 'adresse': {'ville': 'Paris', 'pays': 'France'}}\n"
     ]
    }
   ],
   "source": [
    "personne[\"age\"] = 36\n",
    "\n",
    "personne[\"notes\"] = [18, 16, 19]\n",
    "\n",
    "personne[\"adresse\"] = {\"ville\": \"Paris\", \"pays\": \"France\"}\n",
    "\n",
    "print(personne)"
   ]
  },
  {
   "cell_type": "code",
   "execution_count": 97,
   "metadata": {},
   "outputs": [
    {
     "data": {
      "text/plain": [
       "['nom', 'prenom', 'age', 'notes', 'adresse']"
      ]
     },
     "execution_count": 97,
     "metadata": {},
     "output_type": "execute_result"
    }
   ],
   "source": [
    "list(personne.keys()) # récupère la liste des clé et la transforme en liste"
   ]
  },
  {
   "cell_type": "code",
   "execution_count": 100,
   "metadata": {},
   "outputs": [
    {
     "data": {
      "text/plain": [
       "dict_values(['Gaultier', 'Charlene', 36, [18, 16, 19], {'ville': 'Paris', 'pays': 'France'}])"
      ]
     },
     "execution_count": 100,
     "metadata": {},
     "output_type": "execute_result"
    }
   ],
   "source": [
    "personne.values()"
   ]
  },
  {
   "cell_type": "markdown",
   "metadata": {},
   "source": [
    "## Parenthèse mutabilité"
   ]
  },
  {
   "cell_type": "code",
   "execution_count": 98,
   "metadata": {},
   "outputs": [
    {
     "name": "stdout",
     "output_type": "stream",
     "text": [
      "[4, 8, 12]\n",
      "[75, 8, 12]\n"
     ]
    }
   ],
   "source": [
    "ma_liste = [4, 8, 12]\n",
    "\n",
    "ma_liste2 = list(ma_liste)\n",
    "\n",
    "ma_liste2[0] = 75\n",
    "\n",
    "print(ma_liste)\n",
    "print(ma_liste2)"
   ]
  },
  {
   "cell_type": "code",
   "execution_count": 99,
   "metadata": {},
   "outputs": [
    {
     "name": "stdout",
     "output_type": "stream",
     "text": [
      "[75, 8, 12]\n",
      "[75, 8, 12]\n"
     ]
    }
   ],
   "source": [
    "ma_liste = [4, 8, 12]\n",
    "\n",
    "ma_liste2 = ma_liste\n",
    "\n",
    "ma_liste2[0] = 75\n",
    "\n",
    "print(ma_liste)\n",
    "print(ma_liste2)"
   ]
  },
  {
   "cell_type": "markdown",
   "metadata": {},
   "source": [
    "## Le mot clé \"in\""
   ]
  },
  {
   "cell_type": "code",
   "execution_count": 101,
   "metadata": {},
   "outputs": [
    {
     "data": {
      "text/plain": [
       "True"
      ]
     },
     "execution_count": 101,
     "metadata": {},
     "output_type": "execute_result"
    }
   ],
   "source": [
    "ma_liste = [15,7,9,3]\n",
    "3 in ma_liste"
   ]
  },
  {
   "cell_type": "code",
   "execution_count": 102,
   "metadata": {},
   "outputs": [
    {
     "data": {
      "text/plain": [
       "False"
      ]
     },
     "execution_count": 102,
     "metadata": {},
     "output_type": "execute_result"
    }
   ],
   "source": [
    "18 in ma_liste"
   ]
  },
  {
   "cell_type": "code",
   "execution_count": 103,
   "metadata": {},
   "outputs": [
    {
     "data": {
      "text/plain": [
       "True"
      ]
     },
     "execution_count": 103,
     "metadata": {},
     "output_type": "execute_result"
    }
   ],
   "source": [
    "personne = {\"nom\": \"Gaultier\", \"prenom\": \"Charlene\"}\n",
    "\n",
    "\"nom\" in personne"
   ]
  },
  {
   "cell_type": "code",
   "execution_count": 105,
   "metadata": {},
   "outputs": [
    {
     "data": {
      "text/plain": [
       "False"
      ]
     },
     "execution_count": 105,
     "metadata": {},
     "output_type": "execute_result"
    }
   ],
   "source": [
    "\"Gaultier\" in personne # ce qui compte c'est le clé du dico"
   ]
  },
  {
   "cell_type": "markdown",
   "metadata": {},
   "source": [
    "# Structures conditionnelles"
   ]
  },
  {
   "cell_type": "code",
   "execution_count": 108,
   "metadata": {},
   "outputs": [
    {
     "name": "stdout",
     "output_type": "stream",
     "text": [
      "majeur\n",
      "exterieur\n"
     ]
    }
   ],
   "source": [
    "age = 26\n",
    "\n",
    "if age > 18:\n",
    "    print(\"majeur\")\n",
    "else:\n",
    "    print(\"mineur\")\n",
    "    print(\"interieur\")\n",
    "print(\"exterieur\")"
   ]
  },
  {
   "cell_type": "code",
   "execution_count": 109,
   "metadata": {},
   "outputs": [
    {
     "ename": "NameError",
     "evalue": "name 'mon_entier' is not defined",
     "output_type": "error",
     "traceback": [
      "\u001b[1;31m---------------------------------------------------------------------------\u001b[0m",
      "\u001b[1;31mNameError\u001b[0m                                 Traceback (most recent call last)",
      "\u001b[1;32m<ipython-input-109-eb6fe14cdcf0>\u001b[0m in \u001b[0;36m<module>\u001b[1;34m\u001b[0m\n\u001b[1;32m----> 1\u001b[1;33m \u001b[1;36m2\u001b[0m \u001b[1;33m+\u001b[0m \u001b[0mmon_entier\u001b[0m\u001b[1;33m\u001b[0m\u001b[1;33m\u001b[0m\u001b[0m\n\u001b[0m",
      "\u001b[1;31mNameError\u001b[0m: name 'mon_entier' is not defined"
     ]
    }
   ],
   "source": [
    "2 + mon_entier"
   ]
  },
  {
   "cell_type": "code",
   "execution_count": 113,
   "metadata": {},
   "outputs": [
    {
     "name": "stdout",
     "output_type": "stream",
     "text": [
      "passe ton permis\n",
      "exterieur\n"
     ]
    }
   ],
   "source": [
    "age = 18\n",
    "\n",
    "if age > 18:\n",
    "    print(\"majeur\")\n",
    "elif age == 18:\n",
    "    print(\"passe ton permis\")\n",
    "else:\n",
    "    print(\"mineur\")\n",
    "    print(\"interieur\")\n",
    "print(\"exterieur\")"
   ]
  },
  {
   "cell_type": "code",
   "execution_count": 114,
   "metadata": {},
   "outputs": [
    {
     "name": "stdout",
     "output_type": "stream",
     "text": [
      "majeur\n",
      "passe ton permis\n",
      "exterieur\n"
     ]
    }
   ],
   "source": [
    "age = 18\n",
    "\n",
    "if age >= 18:\n",
    "    print(\"majeur\")\n",
    "    if age == 18:\n",
    "        print(\"passe ton permis\")\n",
    "else:\n",
    "    print(\"mineur\")\n",
    "    print(\"interieur\")\n",
    "print(\"exterieur\")"
   ]
  },
  {
   "cell_type": "code",
   "execution_count": 115,
   "metadata": {},
   "outputs": [],
   "source": [
    "etat = \"majeur\" if age > 18 else \"mineur\"\n",
    "\n",
    "# équivaut à écrire le code ci dessous\n",
    "if age > 18:\n",
    "    etat = majeur\n",
    "else:\n",
    "    etat = \"mineur\""
   ]
  },
  {
   "cell_type": "markdown",
   "metadata": {},
   "source": [
    "# Boucles"
   ]
  },
  {
   "cell_type": "code",
   "execution_count": 116,
   "metadata": {},
   "outputs": [
    {
     "name": "stdout",
     "output_type": "stream",
     "text": [
      "2\n",
      "7\n",
      "9\n"
     ]
    }
   ],
   "source": [
    "ma_liste = [2, 7, 9]\n",
    "\n",
    "# /!\\ On n'itère pas sur les indices mais sur les éléments\n",
    "for i in ma_liste:\n",
    "    print(i)"
   ]
  },
  {
   "cell_type": "code",
   "execution_count": 117,
   "metadata": {},
   "outputs": [
    {
     "name": "stdout",
     "output_type": "stream",
     "text": [
      "0\n",
      "1\n",
      "2\n",
      "3\n",
      "4\n",
      "5\n",
      "6\n",
      "7\n",
      "8\n",
      "9\n"
     ]
    }
   ],
   "source": [
    "# for i in [1, 8, 12]:\n",
    "#     print(i)\n",
    "    \n",
    "for i in range(10):\n",
    "    print(i)"
   ]
  },
  {
   "cell_type": "code",
   "execution_count": 119,
   "metadata": {},
   "outputs": [
    {
     "name": "stdout",
     "output_type": "stream",
     "text": [
      "element1 = 3 et element2 = 6\n",
      "element1 = 7 et element2 = 4\n",
      "element1 = 12 et element2 = 13\n"
     ]
    }
   ],
   "source": [
    "ma_liste1 = [3,7,12]\n",
    "ma_liste2 = [6,4,13]\n",
    "\n",
    "for i in range(len(ma_liste1)):\n",
    "    print(f\"element1 = {ma_liste1[i]} et element2 = {ma_liste2[i]}\")\n",
    "    "
   ]
  },
  {
   "cell_type": "code",
   "execution_count": 130,
   "metadata": {},
   "outputs": [
    {
     "name": "stdout",
     "output_type": "stream",
     "text": [
      "element1 = 3 et element2 = 6\n",
      "element1 = 7 et element2 = 4\n",
      "element1 = 12 et element2 = 13\n"
     ]
    }
   ],
   "source": [
    "ma_liste1 = [3,7,12,15]\n",
    "ma_liste2 = [6,4,13]\n",
    "\n",
    "for i, j in zip(ma_liste1, ma_liste2):\n",
    "    print(f\"element1 = {i} et element2 = {j}\")\n",
    "    "
   ]
  },
  {
   "cell_type": "code",
   "execution_count": 136,
   "metadata": {},
   "outputs": [
    {
     "name": "stdout",
     "output_type": "stream",
     "text": [
      "element1 = 3 et element2 = 6\n",
      "element1 = 7 et element2 = 4\n",
      "element1 = 12 et element2 = 13\n",
      "element1 = 15 et element2 = -1\n",
      "element1 = 18 et element2 = -1\n"
     ]
    }
   ],
   "source": [
    "from itertools import zip_longest\n",
    "\n",
    "ma_liste1 = [3,7,12, 15, 18]\n",
    "ma_liste2 = [6,4,13]\n",
    "\n",
    "for i, j in zip_longest(ma_liste1, ma_liste2, fillvalue=-1):\n",
    "    print(f\"element1 = {i} et element2 = {j}\")\n",
    "    "
   ]
  },
  {
   "cell_type": "code",
   "execution_count": 135,
   "metadata": {},
   "outputs": [
    {
     "name": "stdout",
     "output_type": "stream",
     "text": [
      "element1 = 3 et element2 = 6\n",
      "18\n",
      "element1 = 3 et element2 = 4\n",
      "12\n",
      "element1 = 3 et element2 = 13\n",
      "39\n",
      "element1 = 7 et element2 = 6\n",
      "42\n",
      "element1 = 7 et element2 = 4\n",
      "28\n",
      "element1 = 7 et element2 = 13\n",
      "91\n",
      "element1 = 12 et element2 = 6\n",
      "72\n",
      "element1 = 12 et element2 = 4\n",
      "48\n",
      "element1 = 12 et element2 = 13\n",
      "156\n"
     ]
    }
   ],
   "source": [
    "from itertools import product\n",
    "\n",
    "list_temp = [3,7,12]\n",
    "list_pression = [6,4,13]\n",
    "\n",
    "for i, j in product(list_temp, list_pression):\n",
    "    print(f\"element1 = {i} et element2 = {j}\")\n",
    "    score = i * j\n",
    "    print(score)\n",
    "    "
   ]
  },
  {
   "cell_type": "code",
   "execution_count": 120,
   "metadata": {},
   "outputs": [
    {
     "name": "stdout",
     "output_type": "stream",
     "text": [
      "nom\n",
      "prenom\n"
     ]
    }
   ],
   "source": [
    "# for i in {\"nom\": \"Dupont\", \"prenom\": \"Jacques\"}:\n",
    "#     print(i)"
   ]
  },
  {
   "cell_type": "code",
   "execution_count": 122,
   "metadata": {},
   "outputs": [
    {
     "data": {
      "text/plain": [
       "range(0, 10)"
      ]
     },
     "execution_count": 122,
     "metadata": {},
     "output_type": "execute_result"
    }
   ],
   "source": [
    "range(10) # sur python 3 on a une génératrice"
   ]
  },
  {
   "cell_type": "code",
   "execution_count": 123,
   "metadata": {},
   "outputs": [
    {
     "data": {
      "text/plain": [
       "[0, 1, 2, 3, 4, 5, 6, 7, 8, 9]"
      ]
     },
     "execution_count": 123,
     "metadata": {},
     "output_type": "execute_result"
    }
   ],
   "source": [
    "list(range(10))"
   ]
  },
  {
   "cell_type": "code",
   "execution_count": 126,
   "metadata": {},
   "outputs": [
    {
     "data": {
      "text/plain": [
       "0.6666666666666666"
      ]
     },
     "execution_count": 126,
     "metadata": {},
     "output_type": "execute_result"
    }
   ],
   "source": [
    "2 / 3 # sur python 3 on a 0.6666, sur python 2 on a 0"
   ]
  },
  {
   "cell_type": "code",
   "execution_count": 127,
   "metadata": {},
   "outputs": [
    {
     "data": {
      "text/plain": [
       "0"
      ]
     },
     "execution_count": 127,
     "metadata": {},
     "output_type": "execute_result"
    }
   ],
   "source": [
    "2 // 3 # sur python 3 il s'agit de la division euclidienne"
   ]
  },
  {
   "cell_type": "code",
   "execution_count": 128,
   "metadata": {},
   "outputs": [
    {
     "ename": "SyntaxError",
     "evalue": "Missing parentheses in call to 'print'. Did you mean print(\"Bonjour\" # possible en python 2. Impossible sur python 3)? (<ipython-input-128-6512808cd9b6>, line 1)",
     "output_type": "error",
     "traceback": [
      "\u001b[1;36m  File \u001b[1;32m\"<ipython-input-128-6512808cd9b6>\"\u001b[1;36m, line \u001b[1;32m1\u001b[0m\n\u001b[1;33m    print \"Bonjour\" # possible en python 2. Impossible sur python 3\u001b[0m\n\u001b[1;37m                  ^\u001b[0m\n\u001b[1;31mSyntaxError\u001b[0m\u001b[1;31m:\u001b[0m Missing parentheses in call to 'print'. Did you mean print(\"Bonjour\" # possible en python 2. Impossible sur python 3)?\n"
     ]
    }
   ],
   "source": [
    "print \"Bonjour\" # possible en python 2. Impossible sur python 3"
   ]
  },
  {
   "cell_type": "markdown",
   "metadata": {},
   "source": [
    "## Fizz Buzz\n",
    "\n",
    "Pour tous les entiers de 0 à 100 afficher:\n",
    "* fizz si l'entier est divisible par 3\n",
    "* buzz si l'entier est divisible par 5\n",
    "* bazz s'il est divisible par 3 et 5\n",
    "* sinon on affiche l'entier\n",
    "\n",
    "\n",
    "Exemple:\n",
    "* bazz\n",
    "* 1\n",
    "* 2\n",
    "* fizz\n",
    "* 4\n",
    "* buzz..."
   ]
  },
  {
   "cell_type": "code",
   "execution_count": null,
   "metadata": {},
   "outputs": [],
   "source": [
    "i % 2 == 0 # i est pair\n",
    "i % 2 != 0 # i est impair\n",
    "\n",
    "True and False\n",
    "True or False"
   ]
  },
  {
   "cell_type": "code",
   "execution_count": 137,
   "metadata": {},
   "outputs": [
    {
     "name": "stdout",
     "output_type": "stream",
     "text": [
      "bazz\n",
      "1\n",
      "2\n",
      "fizz\n",
      "4\n",
      "buzz\n",
      "fizz\n",
      "7\n",
      "8\n",
      "fizz\n",
      "buzz\n",
      "11\n",
      "fizz\n",
      "13\n",
      "14\n",
      "bazz\n",
      "16\n",
      "17\n",
      "fizz\n",
      "19\n",
      "buzz\n",
      "fizz\n",
      "22\n",
      "23\n",
      "fizz\n",
      "buzz\n",
      "26\n",
      "fizz\n",
      "28\n",
      "29\n",
      "bazz\n",
      "31\n",
      "32\n",
      "fizz\n",
      "34\n",
      "buzz\n",
      "fizz\n",
      "37\n",
      "38\n",
      "fizz\n",
      "buzz\n",
      "41\n",
      "fizz\n",
      "43\n",
      "44\n",
      "bazz\n",
      "46\n",
      "47\n",
      "fizz\n",
      "49\n",
      "buzz\n",
      "fizz\n",
      "52\n",
      "53\n",
      "fizz\n",
      "buzz\n",
      "56\n",
      "fizz\n",
      "58\n",
      "59\n",
      "bazz\n",
      "61\n",
      "62\n",
      "fizz\n",
      "64\n",
      "buzz\n",
      "fizz\n",
      "67\n",
      "68\n",
      "fizz\n",
      "buzz\n",
      "71\n",
      "fizz\n",
      "73\n",
      "74\n",
      "bazz\n",
      "76\n",
      "77\n",
      "fizz\n",
      "79\n",
      "buzz\n",
      "fizz\n",
      "82\n",
      "83\n",
      "fizz\n",
      "buzz\n",
      "86\n",
      "fizz\n",
      "88\n",
      "89\n",
      "bazz\n",
      "91\n",
      "92\n",
      "fizz\n",
      "94\n",
      "buzz\n",
      "fizz\n",
      "97\n",
      "98\n",
      "fizz\n",
      "buzz\n"
     ]
    }
   ],
   "source": [
    "for i in range(101):\n",
    "    if (i % 3 == 0) and (i % 5 == 0):\n",
    "        print(\"bazz\")\n",
    "    elif i % 3 == 0:\n",
    "        print(\"fizz\")\n",
    "    elif i % 5 == 0:\n",
    "        print(\"buzz\")\n",
    "    else:\n",
    "        print(i)"
   ]
  },
  {
   "cell_type": "code",
   "execution_count": 138,
   "metadata": {},
   "outputs": [
    {
     "name": "stdout",
     "output_type": "stream",
     "text": [
      "Quel est ton nom ?Marc\n"
     ]
    }
   ],
   "source": [
    "nom = input(\"Quel est ton nom ?\")"
   ]
  },
  {
   "cell_type": "code",
   "execution_count": 139,
   "metadata": {},
   "outputs": [
    {
     "name": "stdout",
     "output_type": "stream",
     "text": [
      "Marc\n"
     ]
    }
   ],
   "source": [
    "print(nom)"
   ]
  },
  {
   "cell_type": "code",
   "execution_count": 140,
   "metadata": {},
   "outputs": [
    {
     "name": "stdout",
     "output_type": "stream",
     "text": [
      "Quel est ton age ?34\n"
     ]
    }
   ],
   "source": [
    "age = input(\"Quel est ton age ?\") # renvoie une str"
   ]
  },
  {
   "cell_type": "code",
   "execution_count": 145,
   "metadata": {},
   "outputs": [],
   "source": [
    "# print(age + 2) # erreur str + int"
   ]
  },
  {
   "cell_type": "code",
   "execution_count": 146,
   "metadata": {},
   "outputs": [
    {
     "name": "stdout",
     "output_type": "stream",
     "text": [
      "Quel est ton age ?36\n"
     ]
    }
   ],
   "source": [
    "age = int(input(\"Quel est ton age ?\")) # renvoie un int"
   ]
  },
  {
   "cell_type": "code",
   "execution_count": 147,
   "metadata": {},
   "outputs": [
    {
     "name": "stdout",
     "output_type": "stream",
     "text": [
      "38\n"
     ]
    }
   ],
   "source": [
    "print(age + 2)"
   ]
  },
  {
   "cell_type": "markdown",
   "metadata": {},
   "source": [
    "## While"
   ]
  },
  {
   "cell_type": "code",
   "execution_count": 156,
   "metadata": {},
   "outputs": [
    {
     "name": "stdout",
     "output_type": "stream",
     "text": [
      "inferieur à 10\n",
      "0\n",
      "inferieur à 10\n",
      "1\n",
      "inferieur à 10\n",
      "2\n",
      "inferieur à 10\n",
      "3\n",
      "inferieur à 10\n",
      "4\n",
      "inferieur à 10\n",
      "5\n",
      "inferieur à 10\n",
      "6\n",
      "inferieur à 10\n",
      "7\n",
      "inferieur à 10\n",
      "8\n",
      "inferieur à 10\n",
      "9\n"
     ]
    }
   ],
   "source": [
    "i = 0\n",
    "\n",
    "while i < 10:\n",
    "    print(\"inferieur à 10\")\n",
    "    print(i)\n",
    "    i += 1"
   ]
  },
  {
   "cell_type": "code",
   "execution_count": 155,
   "metadata": {},
   "outputs": [
    {
     "data": {
      "text/plain": [
       "2"
      ]
     },
     "execution_count": 155,
     "metadata": {},
     "output_type": "execute_result"
    }
   ],
   "source": [
    "from random import randint\n",
    "\n",
    "randint(0,2)"
   ]
  },
  {
   "cell_type": "markdown",
   "metadata": {},
   "source": [
    "## Dichotomie\n",
    "\n",
    "#### 1ere partie : \n",
    "L'ordinateur génère un nombre aléatoire entre 0 et 100. L'utilisateur va devoir trouver ce nombre.\n",
    "\n",
    "Pour cela, il va faire des propositions. \n",
    "* Si la proposition est inférieur au nombre mystère de l'ordinateur, l'ordianteur affiche \"trop petit\"\n",
    "* Si la proposition est supérieur au nombre mystère de l'ordinateur, l'ordianteur affiche \"trop grand\"\n",
    "* Si la proposition est bonne, l'ordinateur affiche gagné !\n",
    "\n",
    "#### 2e partie : \n",
    "L'utilisatuer pense à un nombre aléatoire entre 0 et 100. L'ordinateur va devoir trouver ce nombre.\n",
    "\n",
    "A chaque tour, il nous affiche sa proposition et on lui répond P, G ou E pour trop petit, trop grand ou egal.\n",
    "\n",
    "L'ordinateur doit être intelligent et ne pas faire de proposition impossible.\n"
   ]
  },
  {
   "cell_type": "code",
   "execution_count": 157,
   "metadata": {},
   "outputs": [
    {
     "name": "stdout",
     "output_type": "stream",
     "text": [
      "Devinez le nombre mystère... \n",
      "50\n",
      "Trop petit\n",
      "Devinez le nombre mystère... \n",
      "75\n",
      "Trop petit\n",
      "Devinez le nombre mystère... \n",
      "82\n",
      "Trop petit\n",
      "Devinez le nombre mystère... \n",
      "92\n",
      "Trop petit\n",
      "Devinez le nombre mystère... \n",
      "96\n",
      "Trop grand\n",
      "Devinez le nombre mystère... \n",
      "94\n",
      "Trop petit\n",
      "Devinez le nombre mystère... \n",
      "95\n",
      "Gagné !\n"
     ]
    }
   ],
   "source": [
    "from random import randint\n",
    "\n",
    "secret = randint(0,100)\n",
    "\n",
    "proposition = None\n",
    "\n",
    "while proposition != secret:\n",
    "    proposition = int(input(\"Devinez le nombre mystère... \\n\"))\n",
    "    if proposition > secret:\n",
    "        print(\"Trop grand\")\n",
    "    elif proposition < secret:\n",
    "        print(\"Trop petit\")\n",
    "        \n",
    "print(\"Gagné !\")"
   ]
  },
  {
   "cell_type": "code",
   "execution_count": null,
   "metadata": {},
   "outputs": [],
   "source": [
    "from random import randint\n",
    "\n",
    "secret = randint(0,100)\n",
    "\n",
    "proposition = int(input(\"Devinez le nombre mystère... \\n\"))\n",
    "\n",
    "while proposition != secret:\n",
    "    if proposition > secret:\n",
    "        print(\"Trop grand\")\n",
    "        proposition = int(input(\"Devinez le nombre mystère... \\n\"))\n",
    "    elif proposition < secret:\n",
    "        print(\"Trop petit\")\n",
    "        proposition = int(input(\"Devinez le nombre mystère... \\n\"))\n",
    "        \n",
    "print(\"Gagné !\")"
   ]
  },
  {
   "cell_type": "code",
   "execution_count": 158,
   "metadata": {},
   "outputs": [
    {
     "name": "stdout",
     "output_type": "stream",
     "text": [
      "Devinez le nombre mystère... \n",
      "50\n",
      "Trop petit\n",
      "Devinez le nombre mystère... \n",
      "75\n",
      "Trop petit\n",
      "Devinez le nombre mystère... \n",
      "90\n",
      "Trop grand\n",
      "Devinez le nombre mystère... \n",
      "85\n",
      "Gagné !\n"
     ]
    }
   ],
   "source": [
    "from random import randint\n",
    "\n",
    "secret = randint(0,100)\n",
    "\n",
    "for i in range(100):\n",
    "    proposition = int(input(\"Devinez le nombre mystère... \\n\"))\n",
    "    if proposition > secret:\n",
    "        print(\"Trop grand\")\n",
    "    elif proposition < secret:\n",
    "        print(\"Trop petit\")\n",
    "    else:\n",
    "        break\n",
    "        \n",
    "print(\"Gagné !\")"
   ]
  },
  {
   "cell_type": "markdown",
   "metadata": {},
   "source": [
    "#### 2e partie : \n",
    "L'utilisatuer pense à un nombre aléatoire entre 0 et 100. L'ordinateur va devoir trouver ce nombre.\n",
    "\n",
    "A chaque tour, il nous affiche sa proposition et on lui répond P, G ou E pour trop petit, trop grand ou egal.\n",
    "\n",
    "L'ordinateur doit être intelligent et ne pas faire de proposition impossible.\n"
   ]
  },
  {
   "cell_type": "code",
   "execution_count": 162,
   "metadata": {},
   "outputs": [
    {
     "name": "stdout",
     "output_type": "stream",
     "text": [
      "Le resultat est-il 50 ? E/P/G \n",
      "5\n",
      "Le resultat est-il 50 ? E/P/G \n",
      "E\n"
     ]
    }
   ],
   "source": [
    "borne_min = 0\n",
    "borne_max = 100\n",
    "\n",
    "reponse = None\n",
    "\n",
    "while reponse != \"E\":\n",
    "    proposition = (borne_max + borne_min) // 2\n",
    "    reponse = input(f\"Le resultat est-il {proposition} ? E/P/G \\n\")\n",
    "    if reponse.upper() == \"P\":\n",
    "        borne_min = proposition + 1\n",
    "    elif reponse.upper() == \"G\":\n",
    "        borne_max = proposition\n",
    "    "
   ]
  },
  {
   "cell_type": "code",
   "execution_count": 165,
   "metadata": {},
   "outputs": [
    {
     "data": {
      "text/plain": [
       "'E'"
      ]
     },
     "execution_count": 165,
     "metadata": {},
     "output_type": "execute_result"
    }
   ],
   "source": [
    "\"e\".upper()"
   ]
  },
  {
   "cell_type": "code",
   "execution_count": 169,
   "metadata": {},
   "outputs": [
    {
     "data": {
      "text/plain": [
       "'C:\\\\Users\\\\formation\\\\FormationPython'"
      ]
     },
     "execution_count": 169,
     "metadata": {},
     "output_type": "execute_result"
    }
   ],
   "source": [
    "import os\n",
    "\n",
    "os.getcwd()"
   ]
  },
  {
   "cell_type": "code",
   "execution_count": 170,
   "metadata": {},
   "outputs": [
    {
     "data": {
      "text/plain": [
       "'C:\\\\Users\\\\formation\\\\FormationPython'"
      ]
     },
     "execution_count": 170,
     "metadata": {},
     "output_type": "execute_result"
    }
   ],
   "source": []
  }
 ],
 "metadata": {
  "kernelspec": {
   "display_name": "Python 3",
   "language": "python",
   "name": "python3"
  },
  "language_info": {
   "codemirror_mode": {
    "name": "ipython",
    "version": 3
   },
   "file_extension": ".py",
   "mimetype": "text/x-python",
   "name": "python",
   "nbconvert_exporter": "python",
   "pygments_lexer": "ipython3",
   "version": "3.7.6"
  }
 },
 "nbformat": 4,
 "nbformat_minor": 4
}
