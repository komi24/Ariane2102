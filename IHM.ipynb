{
 "cells": [
  {
   "cell_type": "code",
   "execution_count": 7,
   "metadata": {},
   "outputs": [
    {
     "name": "stdout",
     "output_type": "stream",
     "text": [
      "debut\n",
      "fin\n"
     ]
    }
   ],
   "source": [
    "from tkinter import Tk, Label, Button, LEFT, RIGHT, TOP, BOTTOM\n",
    "\n",
    "fen = Tk()\n",
    "\n",
    "label = Label(fen, text=\"Bonjour tout le monde\")\n",
    "label.pack(side=LEFT)\n",
    "\n",
    "button = Button(fen, text=\"Bouton 1\")\n",
    "button.pack(side=BOTTOM)\n",
    "\n",
    "button = Button(fen, text=\"Bouton 2\")\n",
    "button.pack()\n",
    "\n",
    "print(\"debut\")\n",
    "fen.mainloop()\n",
    "print(\"fin\")"
   ]
  },
  {
   "cell_type": "code",
   "execution_count": 9,
   "metadata": {},
   "outputs": [
    {
     "name": "stdout",
     "output_type": "stream",
     "text": [
      "debut\n",
      "fin\n"
     ]
    }
   ],
   "source": [
    "from tkinter import Tk, Label, Button, LEFT, RIGHT, TOP, BOTTOM\n",
    "\n",
    "fen = Tk()\n",
    "\n",
    "for i in range(9):\n",
    "    button = Button(fen, text=f\"Bouton {i}\")\n",
    "    button.grid(row=i//3, column=i%3)\n",
    "\n",
    "print(\"debut\")\n",
    "fen.mainloop()\n",
    "print(\"fin\")"
   ]
  },
  {
   "cell_type": "code",
   "execution_count": 10,
   "metadata": {},
   "outputs": [
    {
     "ename": "TclError",
     "evalue": "cannot use geometry manager grid inside . which already has slaves managed by pack",
     "output_type": "error",
     "traceback": [
      "\u001b[1;31m---------------------------------------------------------------------------\u001b[0m",
      "\u001b[1;31mTclError\u001b[0m                                  Traceback (most recent call last)",
      "\u001b[1;32m<ipython-input-10-e526b8d60b68>\u001b[0m in \u001b[0;36m<module>\u001b[1;34m\u001b[0m\n\u001b[0;32m     10\u001b[0m \u001b[1;32mfor\u001b[0m \u001b[0mi\u001b[0m \u001b[1;32min\u001b[0m \u001b[0mrange\u001b[0m\u001b[1;33m(\u001b[0m\u001b[1;36m9\u001b[0m\u001b[1;33m)\u001b[0m\u001b[1;33m:\u001b[0m\u001b[1;33m\u001b[0m\u001b[1;33m\u001b[0m\u001b[0m\n\u001b[0;32m     11\u001b[0m     \u001b[0mbutton\u001b[0m \u001b[1;33m=\u001b[0m \u001b[0mButton\u001b[0m\u001b[1;33m(\u001b[0m\u001b[0mfen\u001b[0m\u001b[1;33m,\u001b[0m \u001b[0mtext\u001b[0m\u001b[1;33m=\u001b[0m\u001b[1;34mf\"Bouton {i}\"\u001b[0m\u001b[1;33m)\u001b[0m\u001b[1;33m\u001b[0m\u001b[1;33m\u001b[0m\u001b[0m\n\u001b[1;32m---> 12\u001b[1;33m     \u001b[0mbutton\u001b[0m\u001b[1;33m.\u001b[0m\u001b[0mgrid\u001b[0m\u001b[1;33m(\u001b[0m\u001b[0mrow\u001b[0m\u001b[1;33m=\u001b[0m\u001b[0mi\u001b[0m\u001b[1;33m//\u001b[0m\u001b[1;36m3\u001b[0m\u001b[1;33m,\u001b[0m \u001b[0mcolumn\u001b[0m\u001b[1;33m=\u001b[0m\u001b[0mi\u001b[0m\u001b[1;33m%\u001b[0m\u001b[1;36m3\u001b[0m\u001b[1;33m)\u001b[0m\u001b[1;33m\u001b[0m\u001b[1;33m\u001b[0m\u001b[0m\n\u001b[0m\u001b[0;32m     13\u001b[0m \u001b[1;33m\u001b[0m\u001b[0m\n\u001b[0;32m     14\u001b[0m \u001b[0mprint\u001b[0m\u001b[1;33m(\u001b[0m\u001b[1;34m\"debut\"\u001b[0m\u001b[1;33m)\u001b[0m\u001b[1;33m\u001b[0m\u001b[1;33m\u001b[0m\u001b[0m\n",
      "\u001b[1;32m~\\anaconda3\\lib\\tkinter\\__init__.py\u001b[0m in \u001b[0;36mgrid_configure\u001b[1;34m(self, cnf, **kw)\u001b[0m\n\u001b[0;32m   2224\u001b[0m         self.tk.call(\n\u001b[0;32m   2225\u001b[0m               \u001b[1;33m(\u001b[0m\u001b[1;34m'grid'\u001b[0m\u001b[1;33m,\u001b[0m \u001b[1;34m'configure'\u001b[0m\u001b[1;33m,\u001b[0m \u001b[0mself\u001b[0m\u001b[1;33m.\u001b[0m\u001b[0m_w\u001b[0m\u001b[1;33m)\u001b[0m\u001b[1;33m\u001b[0m\u001b[1;33m\u001b[0m\u001b[0m\n\u001b[1;32m-> 2226\u001b[1;33m               + self._options(cnf, kw))\n\u001b[0m\u001b[0;32m   2227\u001b[0m     \u001b[0mgrid\u001b[0m \u001b[1;33m=\u001b[0m \u001b[0mconfigure\u001b[0m \u001b[1;33m=\u001b[0m \u001b[0mconfig\u001b[0m \u001b[1;33m=\u001b[0m \u001b[0mgrid_configure\u001b[0m\u001b[1;33m\u001b[0m\u001b[1;33m\u001b[0m\u001b[0m\n\u001b[0;32m   2228\u001b[0m     \u001b[0mbbox\u001b[0m \u001b[1;33m=\u001b[0m \u001b[0mgrid_bbox\u001b[0m \u001b[1;33m=\u001b[0m \u001b[0mMisc\u001b[0m\u001b[1;33m.\u001b[0m\u001b[0mgrid_bbox\u001b[0m\u001b[1;33m\u001b[0m\u001b[1;33m\u001b[0m\u001b[0m\n",
      "\u001b[1;31mTclError\u001b[0m: cannot use geometry manager grid inside . which already has slaves managed by pack"
     ]
    }
   ],
   "source": [
    "from tkinter import Tk, Label, Button, LEFT, RIGHT, TOP, BOTTOM\n",
    "\n",
    "fen = Tk()\n",
    "\n",
    "# /!\\ On ne peut pas positionner en pack et grid dans le même element\n",
    "label = Label(fen, text=\"Bonjour tout le monde\")\n",
    "label.pack(side=LEFT)\n",
    "\n",
    "\n",
    "for i in range(9):\n",
    "    button = Button(fen, text=f\"Bouton {i}\")\n",
    "    button.grid(row=i//3, column=i%3)\n",
    "\n",
    "print(\"debut\")\n",
    "fen.mainloop()\n",
    "print(\"fin\")"
   ]
  },
  {
   "cell_type": "code",
   "execution_count": 15,
   "metadata": {},
   "outputs": [
    {
     "name": "stdout",
     "output_type": "stream",
     "text": [
      "debut\n",
      "fin\n"
     ]
    }
   ],
   "source": [
    "from tkinter import Tk, Frame, Label, Button, LEFT, RIGHT, TOP, BOTTOM\n",
    "\n",
    "\n",
    "\n",
    "fen = Tk()\n",
    "\n",
    "button = Button(fen, text=\"Enter\")\n",
    "button.pack(side=LEFT, expand=True, fill=\"both\")\n",
    "label = Label(fen, text=\"Bonjour tout le monde\")\n",
    "label.pack(side=LEFT)\n",
    "\n",
    "frame = Frame(fen)\n",
    "frame.pack()\n",
    "\n",
    "\n",
    "for i in range(9):\n",
    "    # /!\\ ici les element sont positionnés en grid dans la frame\n",
    "    button = Button(frame, text=f\"Bouton {i+1}\")\n",
    "    button.grid(row=i//3, column=i%3)\n",
    "\n",
    "button = Button(frame, text=\"Button 0\")\n",
    "button.grid(row=3, column=0, columnspan=3, sticky=\"EW\")\n",
    "\n",
    "print(\"debut\")\n",
    "fen.mainloop()\n",
    "print(\"fin\")"
   ]
  },
  {
   "cell_type": "code",
   "execution_count": 24,
   "metadata": {},
   "outputs": [],
   "source": [
    "from tkinter import Tk, Frame, Label, Button, LEFT, RIGHT, TOP, BOTTOM\n",
    "from tkinter import StringVar\n",
    "\n",
    "\n",
    "class CalculatriceUI:\n",
    "    def __init__(self):\n",
    "        self.fen = Tk()\n",
    "\n",
    "        self.affichage = StringVar()\n",
    "        self.affichage.set(\"Bonjour tout le monde\")\n",
    "        \n",
    "        button = Button(self.fen, text=\"Enter\")\n",
    "        button.pack(side=LEFT, expand=True, fill=\"both\")\n",
    "        label = Label(self.fen, textvariable=self.affichage)\n",
    "        label.pack(side=LEFT)\n",
    "\n",
    "        frame = Frame(self.fen)\n",
    "        frame.pack()\n",
    "\n",
    "\n",
    "        for i in range(9):\n",
    "            # /!\\ ici les element sont positionnés en grid dans la frame\n",
    "            button = Button(frame, text=f\"Bouton {i+1}\")\n",
    "            button.grid(row=i//3, column=i%3)\n",
    "            button.bind(\"<Button-1>\", self.handle_number_click)\n",
    "\n",
    "        button = Button(frame, text=\"Button 0\")\n",
    "        button.grid(row=3, column=0, columnspan=3, sticky=\"EW\")\n",
    "\n",
    "    def handle_number_click(self, event):\n",
    "        pass\n",
    "    \n",
    "    def run(self):\n",
    "        self.fen.mainloop()\n",
    "\n",
    "        \n",
    "# calc = CalculatriceUI()\n",
    "\n",
    "# calc.run()"
   ]
  },
  {
   "cell_type": "code",
   "execution_count": 26,
   "metadata": {},
   "outputs": [],
   "source": [
    "class Calculatrice(CalculatriceUI):\n",
    "    def handle_number_click(self, event):\n",
    "        self.affichage.set(\"Hello \" + event.widget.cget(\"text\"))\n",
    "\n",
    "        \n",
    "calc = Calculatrice()\n",
    "\n",
    "calc.run()"
   ]
  },
  {
   "cell_type": "code",
   "execution_count": null,
   "metadata": {},
   "outputs": [],
   "source": []
  }
 ],
 "metadata": {
  "kernelspec": {
   "display_name": "Python 3",
   "language": "python",
   "name": "python3"
  },
  "language_info": {
   "codemirror_mode": {
    "name": "ipython",
    "version": 3
   },
   "file_extension": ".py",
   "mimetype": "text/x-python",
   "name": "python",
   "nbconvert_exporter": "python",
   "pygments_lexer": "ipython3",
   "version": "3.7.6"
  }
 },
 "nbformat": 4,
 "nbformat_minor": 4
}
